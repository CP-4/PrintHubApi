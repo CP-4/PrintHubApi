{
 "cells": [
  {
   "cell_type": "code",
   "execution_count": 31,
   "metadata": {},
   "outputs": [],
   "source": [
    "from docx import Document\n",
    "import xml.dom.minidom\n",
    "import zipfile\n",
    "import re\n",
    "import os\n",
    "import xml.etree.ElementTree as ET \n"
   ]
  },
  {
   "cell_type": "code",
   "execution_count": 2,
   "metadata": {},
   "outputs": [],
   "source": [
    "doc = Document(r'C:\\Users\\dell\\Desktop\\print.docx') "
   ]
  },
  {
   "cell_type": "code",
   "execution_count": 10,
   "metadata": {},
   "outputs": [
    {
     "data": {
      "text/plain": [
       "1"
      ]
     },
     "execution_count": 10,
     "metadata": {},
     "output_type": "execute_result"
    }
   ],
   "source": [
    "len(doc.sections)"
   ]
  },
  {
   "cell_type": "code",
   "execution_count": 28,
   "metadata": {},
   "outputs": [],
   "source": [
    "document = zipfile.ZipFile(r'F:\\College\\DE_Report (3).docx')"
   ]
  },
  {
   "cell_type": "code",
   "execution_count": 15,
   "metadata": {},
   "outputs": [
    {
     "data": {
      "text/plain": [
       "['[Content_Types].xml',\n",
       " '_rels/.rels',\n",
       " 'word/_rels/document.xml.rels',\n",
       " 'word/document.xml',\n",
       " 'word/footnotes.xml',\n",
       " 'word/endnotes.xml',\n",
       " 'word/theme/theme1.xml',\n",
       " 'word/settings.xml',\n",
       " 'word/webSettings.xml',\n",
       " 'docProps/core.xml',\n",
       " 'word/styles.xml',\n",
       " 'word/fontTable.xml',\n",
       " 'docProps/app.xml']"
      ]
     },
     "execution_count": 15,
     "metadata": {},
     "output_type": "execute_result"
    }
   ],
   "source": [
    "document.namelist()"
   ]
  },
  {
   "cell_type": "code",
   "execution_count": 38,
   "metadata": {},
   "outputs": [
    {
     "ename": "SyntaxError",
     "evalue": "Missing parentheses in call to 'print'. Did you mean print(textelem.text)? (<ipython-input-38-05fc030a7398>, line 5)",
     "output_type": "error",
     "traceback": [
      "\u001b[1;36m  File \u001b[1;32m\"<ipython-input-38-05fc030a7398>\"\u001b[1;36m, line \u001b[1;32m5\u001b[0m\n\u001b[1;33m    print textelem.text\u001b[0m\n\u001b[1;37m                 ^\u001b[0m\n\u001b[1;31mSyntaxError\u001b[0m\u001b[1;31m:\u001b[0m Missing parentheses in call to 'print'. Did you mean print(textelem.text)?\n"
     ]
    }
   ],
   "source": [
    "import lxml.etree\n",
    "# xmlstr is your xml in a string\n",
    "root = lxml.etree.fromstring(uglyXml)\n",
    "textelem = root.find('Pages')\n",
    "print(textelem.text)"
   ]
  },
  {
   "cell_type": "code",
   "execution_count": 29,
   "metadata": {},
   "outputs": [
    {
     "name": "stdout",
     "output_type": "stream",
     "text": [
      "<?xml version=\"1.0\" ?>\n",
      "<Properties xmlns=\"http://schemas.openxmlformats.org/officeDocument/2006/extended-properties\" xmlns:vt=\"http://schemas.openxmlformats.org/officeDocument/2006/docPropsVTypes\">\n",
      "  <Template>Normal.dotm</Template>\n",
      "  <TotalTime>393</TotalTime>\n",
      "  <Pages>37</Pages>\n",
      "  <Words>2399</Words>\n",
      "  <Characters>13680</Characters>\n",
      "  <Application>Microsoft Office Word</Application>\n",
      "  <DocSecurity>0</DocSecurity>\n",
      "  <Lines>114</Lines>\n",
      "  <Paragraphs>32</Paragraphs>\n",
      "  <ScaleCrop>false</ScaleCrop>\n",
      "  <HeadingPairs>\n",
      "    <vt:vector baseType=\"variant\" size=\"2\">\n",
      "      <vt:variant>\n",
      "        <vt:lpstr>Title</vt:lpstr>\n",
      "      </vt:variant>\n",
      "      <vt:variant>\n",
      "        <vt:i4>1</vt:i4>\n",
      "      </vt:variant>\n",
      "    </vt:vector>\n",
      "  </HeadingPairs>\n",
      "  <TitlesOfParts>\n",
      "    <vt:vector baseType=\"lpstr\" size=\"1\">\n",
      "      <vt:lpstr/>\n",
      "    </vt:vector>\n",
      "  </TitlesOfParts>\n",
      "  <Company/>\n",
      "  <LinksUpToDate>false</LinksUpToDate>\n",
      "  <CharactersWithSpaces>16047</CharactersWithSpaces>\n",
      "  <SharedDoc>false</SharedDoc>\n",
      "  <HyperlinksChanged>false</HyperlinksChanged>\n",
      "  <AppVersion>12.0000</AppVersion>\n",
      "</Properties>\n",
      "\n"
     ]
    }
   ],
   "source": [
    "uglyXml = xml.dom.minidom.parseString(document.read('docProps/app.xml')).toprettyxml(indent='  ')\n",
    "\n",
    "text_re = re.compile('>\\n\\s+([^<>\\s].*?)\\n\\s+</', re.DOTALL)    \n",
    "prettyXml = text_re.sub('>\\g<1></', uglyXml)\n",
    "\n",
    "print(prettyXml)"
   ]
  },
  {
   "cell_type": "code",
   "execution_count": 30,
   "metadata": {},
   "outputs": [
    {
     "data": {
      "text/plain": [
       "264"
      ]
     },
     "execution_count": 30,
     "metadata": {},
     "output_type": "execute_result"
    }
   ],
   "source": [
    "uglyXml.find('<Pages>')"
   ]
  },
  {
   "cell_type": "code",
   "execution_count": null,
   "metadata": {
    "scrolled": false
   },
   "outputs": [],
   "source": [
    "for name in document.namelist():\n",
    "    uglyXml = xml.dom.minidom.parseString(document.read(name)).toprettyxml(indent='  ')\n",
    "\n",
    "    text_re = re.compile('>\\n\\s+([^<>\\s].*?)\\n\\s+</', re.DOTALL)    \n",
    "    prettyXml = text_re.sub('>\\g<1></', uglyXml)\n",
    "\n",
    "    print(prettyXml)"
   ]
  }
 ],
 "metadata": {
  "kernelspec": {
   "display_name": "Python 3",
   "language": "python",
   "name": "python3"
  },
  "language_info": {
   "codemirror_mode": {
    "name": "ipython",
    "version": 3
   },
   "file_extension": ".py",
   "mimetype": "text/x-python",
   "name": "python",
   "nbconvert_exporter": "python",
   "pygments_lexer": "ipython3",
   "version": "3.6.4"
  }
 },
 "nbformat": 4,
 "nbformat_minor": 2
}
